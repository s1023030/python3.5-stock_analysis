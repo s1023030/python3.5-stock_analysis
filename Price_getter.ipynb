{
 "cells": [
  {
   "cell_type": "code",
   "execution_count": 60,
   "metadata": {},
   "outputs": [
    {
     "name": "stdout",
     "output_type": "stream",
     "text": [
      ".csv doesn't exist!\n",
      "Download new data!\n",
      "[*********************100%***********************]  1 of 1 downloaded\n"
     ]
    }
   ],
   "source": [
    "from pandas_datareader import data as web\n",
    "import pandas as pd\n",
    "import datetime as dt\n",
    "import fix_yahoo_finance as yf\n",
    "from os import listdir\n",
    "from os.path import join\n",
    "class Price_getter:\n",
    "    def __init__(self,path='data',region='.TW'):  \n",
    "        yf.pdr_override()\n",
    "        self.store_path=path\n",
    "        self.region=region\n",
    "        self.csv=\".csv\"\n",
    "    def get_price(self,code):\n",
    "        if self._check_csv_exist(code):\n",
    "            print(\"Exist .csv!\")\n",
    "            self._check_update(code)\n",
    "        else:\n",
    "            print(\".csv doesn't exist!\")\n",
    "            print(\"Download new data!\")\n",
    "            self._get_new_code(code)\n",
    "        return self.df\n",
    "        \n",
    "    def _read_from_csv(self,path):\n",
    "        self.df=pd.read_csv(path,index_col=0,infer_datetime_format=True)\n",
    "        self.df.index = pd.to_datetime(self.df.index)\n",
    "        self.df.dropna(how='any',inplace=True)\n",
    "        self.df.sort_index()\n",
    "    def _store_to_csv(self,path):\n",
    "        self.df.to_csv(path)\n",
    "    def _check_csv_exist(self,code):\n",
    "        full_name=code+self.region+self.csv\n",
    "        files = listdir(self.store_path)\n",
    "        if full_name in files:\n",
    "            return True\n",
    "        return False\n",
    "    def _check_update(self,code):\n",
    "        path=join(self.store_path,code+self.region+self.csv)\n",
    "        self._read_from_csv(path)\n",
    "        today=dt.datetime.now().date()\n",
    "        if today>self.df.tail(1).index[0].date():\n",
    "            start_day=self.df.tail(1).index[0].date()+dt.timedelta(days=1)\n",
    "            end_day=today\n",
    "            new_df=self._download_new_data(code,start_day,end_day)\n",
    "            if self.df.tail(1).index[0].date()!=new_df.head(1).index[0].date():\n",
    "                print(\"Obsolete\")\n",
    "                print(\"Update & save to .csv\")\n",
    "                frames = [self.df, new_df]\n",
    "                self.df= pd.concat(frames)\n",
    "                self._store_to_csv(path)\n",
    "    def _download_new_data(self,code,start_day,end_day):\n",
    "        df = web.get_data_yahoo([code+self.region],start=start_day,end=end_day)\n",
    "        return df\n",
    "    def _get_new_code(self,code):\n",
    "        import twstock\n",
    "        start_day = dt.datetime.strptime(twstock.codes[code].start, '%Y/%m/%d')\n",
    "        self.df=price_getter._download_new_data(code,start_day,dt.datetime.now().date())\n",
    "        path=join(self.store_path,code+self.region+self.csv)\n",
    "        self._store_to_csv(path)\n",
    "if __name__=='__main__':\n",
    "    price_getter=Price_getter()\n",
    "    code='6214'\n",
    "    df=price_getter.get_price(code)\n",
    "    \n",
    "        \n",
    "       \n",
    "    '''\n",
    "df.Close.plot()\n",
    "plt.show()'''"
   ]
  },
  {
   "cell_type": "code",
   "execution_count": null,
   "metadata": {
    "collapsed": true
   },
   "outputs": [],
   "source": []
  }
 ],
 "metadata": {
  "kernelspec": {
   "display_name": "Python 3",
   "language": "python",
   "name": "python3"
  },
  "language_info": {
   "codemirror_mode": {
    "name": "ipython",
    "version": 3
   },
   "file_extension": ".py",
   "mimetype": "text/x-python",
   "name": "python",
   "nbconvert_exporter": "python",
   "pygments_lexer": "ipython3",
   "version": "3.5.4"
  }
 },
 "nbformat": 4,
 "nbformat_minor": 2
}
